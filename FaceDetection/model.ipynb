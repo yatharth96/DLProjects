{
 "cells": [
  {
   "cell_type": "code",
   "execution_count": 1,
   "metadata": {
    "collapsed": false
   },
   "outputs": [],
   "source": [
    "import numpy as np\n",
    "import pandas as pd\n",
    "import tflearn"
   ]
  },
  {
   "cell_type": "code",
   "execution_count": 2,
   "metadata": {
    "collapsed": true
   },
   "outputs": [],
   "source": [
    "train = pd.read_csv(\"final_train.csv\")\n",
    "test = pd.read_csv(\"final_test.csv\")"
   ]
  },
  {
   "cell_type": "code",
   "execution_count": 3,
   "metadata": {
    "collapsed": false
   },
   "outputs": [],
   "source": [
    "yID = test[\"ID\"]"
   ]
  },
  {
   "cell_type": "code",
   "execution_count": 4,
   "metadata": {
    "collapsed": false
   },
   "outputs": [],
   "source": [
    "train = train.drop(train.columns[[0,1]],axis=1)"
   ]
  },
  {
   "cell_type": "code",
   "execution_count": 5,
   "metadata": {
    "collapsed": false
   },
   "outputs": [],
   "source": [
    "test = test.drop(test.columns[[0,1]],axis=1)"
   ]
  },
  {
   "cell_type": "code",
   "execution_count": 6,
   "metadata": {
    "collapsed": false
   },
   "outputs": [
    {
     "data": {
      "text/html": [
       "<div>\n",
       "<table border=\"1\" class=\"dataframe\">\n",
       "  <thead>\n",
       "    <tr style=\"text-align: right;\">\n",
       "      <th></th>\n",
       "      <th>0</th>\n",
       "      <th>1</th>\n",
       "      <th>2</th>\n",
       "      <th>3</th>\n",
       "      <th>4</th>\n",
       "      <th>5</th>\n",
       "      <th>6</th>\n",
       "      <th>7</th>\n",
       "      <th>8</th>\n",
       "      <th>9</th>\n",
       "      <th>...</th>\n",
       "      <th>774</th>\n",
       "      <th>775</th>\n",
       "      <th>776</th>\n",
       "      <th>777</th>\n",
       "      <th>778</th>\n",
       "      <th>779</th>\n",
       "      <th>780</th>\n",
       "      <th>781</th>\n",
       "      <th>782</th>\n",
       "      <th>783</th>\n",
       "    </tr>\n",
       "  </thead>\n",
       "  <tbody>\n",
       "    <tr>\n",
       "      <th>0</th>\n",
       "      <td>12</td>\n",
       "      <td>11</td>\n",
       "      <td>12</td>\n",
       "      <td>15</td>\n",
       "      <td>13</td>\n",
       "      <td>10</td>\n",
       "      <td>14</td>\n",
       "      <td>45</td>\n",
       "      <td>66</td>\n",
       "      <td>84</td>\n",
       "      <td>...</td>\n",
       "      <td>106</td>\n",
       "      <td>108</td>\n",
       "      <td>116</td>\n",
       "      <td>136</td>\n",
       "      <td>141</td>\n",
       "      <td>118</td>\n",
       "      <td>98</td>\n",
       "      <td>94</td>\n",
       "      <td>89</td>\n",
       "      <td>78</td>\n",
       "    </tr>\n",
       "    <tr>\n",
       "      <th>1</th>\n",
       "      <td>53</td>\n",
       "      <td>38</td>\n",
       "      <td>25</td>\n",
       "      <td>25</td>\n",
       "      <td>35</td>\n",
       "      <td>80</td>\n",
       "      <td>127</td>\n",
       "      <td>123</td>\n",
       "      <td>128</td>\n",
       "      <td>122</td>\n",
       "      <td>...</td>\n",
       "      <td>31</td>\n",
       "      <td>30</td>\n",
       "      <td>29</td>\n",
       "      <td>28</td>\n",
       "      <td>27</td>\n",
       "      <td>23</td>\n",
       "      <td>24</td>\n",
       "      <td>22</td>\n",
       "      <td>26</td>\n",
       "      <td>29</td>\n",
       "    </tr>\n",
       "    <tr>\n",
       "      <th>2</th>\n",
       "      <td>10</td>\n",
       "      <td>7</td>\n",
       "      <td>5</td>\n",
       "      <td>7</td>\n",
       "      <td>5</td>\n",
       "      <td>3</td>\n",
       "      <td>7</td>\n",
       "      <td>0</td>\n",
       "      <td>10</td>\n",
       "      <td>13</td>\n",
       "      <td>...</td>\n",
       "      <td>162</td>\n",
       "      <td>160</td>\n",
       "      <td>158</td>\n",
       "      <td>159</td>\n",
       "      <td>153</td>\n",
       "      <td>150</td>\n",
       "      <td>147</td>\n",
       "      <td>145</td>\n",
       "      <td>142</td>\n",
       "      <td>140</td>\n",
       "    </tr>\n",
       "    <tr>\n",
       "      <th>3</th>\n",
       "      <td>24</td>\n",
       "      <td>35</td>\n",
       "      <td>25</td>\n",
       "      <td>13</td>\n",
       "      <td>31</td>\n",
       "      <td>58</td>\n",
       "      <td>79</td>\n",
       "      <td>105</td>\n",
       "      <td>106</td>\n",
       "      <td>103</td>\n",
       "      <td>...</td>\n",
       "      <td>69</td>\n",
       "      <td>44</td>\n",
       "      <td>27</td>\n",
       "      <td>45</td>\n",
       "      <td>83</td>\n",
       "      <td>109</td>\n",
       "      <td>103</td>\n",
       "      <td>74</td>\n",
       "      <td>65</td>\n",
       "      <td>60</td>\n",
       "    </tr>\n",
       "    <tr>\n",
       "      <th>4</th>\n",
       "      <td>95</td>\n",
       "      <td>94</td>\n",
       "      <td>80</td>\n",
       "      <td>100</td>\n",
       "      <td>108</td>\n",
       "      <td>134</td>\n",
       "      <td>141</td>\n",
       "      <td>160</td>\n",
       "      <td>166</td>\n",
       "      <td>175</td>\n",
       "      <td>...</td>\n",
       "      <td>147</td>\n",
       "      <td>134</td>\n",
       "      <td>132</td>\n",
       "      <td>145</td>\n",
       "      <td>155</td>\n",
       "      <td>180</td>\n",
       "      <td>169</td>\n",
       "      <td>122</td>\n",
       "      <td>113</td>\n",
       "      <td>110</td>\n",
       "    </tr>\n",
       "  </tbody>\n",
       "</table>\n",
       "<p>5 rows × 784 columns</p>\n",
       "</div>"
      ],
      "text/plain": [
       "    0   1   2    3    4    5    6    7    8    9 ...   774  775  776  777  \\\n",
       "0  12  11  12   15   13   10   14   45   66   84 ...   106  108  116  136   \n",
       "1  53  38  25   25   35   80  127  123  128  122 ...    31   30   29   28   \n",
       "2  10   7   5    7    5    3    7    0   10   13 ...   162  160  158  159   \n",
       "3  24  35  25   13   31   58   79  105  106  103 ...    69   44   27   45   \n",
       "4  95  94  80  100  108  134  141  160  166  175 ...   147  134  132  145   \n",
       "\n",
       "   778  779  780  781  782  783  \n",
       "0  141  118   98   94   89   78  \n",
       "1   27   23   24   22   26   29  \n",
       "2  153  150  147  145  142  140  \n",
       "3   83  109  103   74   65   60  \n",
       "4  155  180  169  122  113  110  \n",
       "\n",
       "[5 rows x 784 columns]"
      ]
     },
     "execution_count": 6,
     "metadata": {},
     "output_type": "execute_result"
    }
   ],
   "source": [
    "test.head()"
   ]
  },
  {
   "cell_type": "code",
   "execution_count": 7,
   "metadata": {
    "collapsed": false
   },
   "outputs": [
    {
     "data": {
      "text/html": [
       "<div>\n",
       "<table border=\"1\" class=\"dataframe\">\n",
       "  <thead>\n",
       "    <tr style=\"text-align: right;\">\n",
       "      <th></th>\n",
       "      <th>0</th>\n",
       "      <th>1</th>\n",
       "      <th>2</th>\n",
       "      <th>3</th>\n",
       "      <th>4</th>\n",
       "      <th>5</th>\n",
       "      <th>6</th>\n",
       "      <th>7</th>\n",
       "      <th>8</th>\n",
       "      <th>9</th>\n",
       "      <th>...</th>\n",
       "      <th>775</th>\n",
       "      <th>776</th>\n",
       "      <th>777</th>\n",
       "      <th>778</th>\n",
       "      <th>779</th>\n",
       "      <th>780</th>\n",
       "      <th>781</th>\n",
       "      <th>782</th>\n",
       "      <th>783</th>\n",
       "      <th>Class</th>\n",
       "    </tr>\n",
       "  </thead>\n",
       "  <tbody>\n",
       "    <tr>\n",
       "      <th>0</th>\n",
       "      <td>82</td>\n",
       "      <td>220</td>\n",
       "      <td>197</td>\n",
       "      <td>168</td>\n",
       "      <td>162</td>\n",
       "      <td>162</td>\n",
       "      <td>198</td>\n",
       "      <td>191</td>\n",
       "      <td>133</td>\n",
       "      <td>95</td>\n",
       "      <td>...</td>\n",
       "      <td>49</td>\n",
       "      <td>52</td>\n",
       "      <td>59</td>\n",
       "      <td>73</td>\n",
       "      <td>95</td>\n",
       "      <td>122</td>\n",
       "      <td>145</td>\n",
       "      <td>172</td>\n",
       "      <td>180</td>\n",
       "      <td>MIDDLE</td>\n",
       "    </tr>\n",
       "    <tr>\n",
       "      <th>1</th>\n",
       "      <td>27</td>\n",
       "      <td>34</td>\n",
       "      <td>60</td>\n",
       "      <td>73</td>\n",
       "      <td>77</td>\n",
       "      <td>89</td>\n",
       "      <td>102</td>\n",
       "      <td>100</td>\n",
       "      <td>106</td>\n",
       "      <td>101</td>\n",
       "      <td>...</td>\n",
       "      <td>57</td>\n",
       "      <td>50</td>\n",
       "      <td>43</td>\n",
       "      <td>43</td>\n",
       "      <td>43</td>\n",
       "      <td>43</td>\n",
       "      <td>50</td>\n",
       "      <td>51</td>\n",
       "      <td>58</td>\n",
       "      <td>OLD</td>\n",
       "    </tr>\n",
       "    <tr>\n",
       "      <th>2</th>\n",
       "      <td>37</td>\n",
       "      <td>22</td>\n",
       "      <td>18</td>\n",
       "      <td>15</td>\n",
       "      <td>24</td>\n",
       "      <td>35</td>\n",
       "      <td>32</td>\n",
       "      <td>42</td>\n",
       "      <td>44</td>\n",
       "      <td>42</td>\n",
       "      <td>...</td>\n",
       "      <td>49</td>\n",
       "      <td>46</td>\n",
       "      <td>39</td>\n",
       "      <td>40</td>\n",
       "      <td>36</td>\n",
       "      <td>13</td>\n",
       "      <td>40</td>\n",
       "      <td>54</td>\n",
       "      <td>122</td>\n",
       "      <td>MIDDLE</td>\n",
       "    </tr>\n",
       "    <tr>\n",
       "      <th>3</th>\n",
       "      <td>15</td>\n",
       "      <td>21</td>\n",
       "      <td>38</td>\n",
       "      <td>36</td>\n",
       "      <td>42</td>\n",
       "      <td>45</td>\n",
       "      <td>40</td>\n",
       "      <td>38</td>\n",
       "      <td>18</td>\n",
       "      <td>18</td>\n",
       "      <td>...</td>\n",
       "      <td>89</td>\n",
       "      <td>96</td>\n",
       "      <td>92</td>\n",
       "      <td>85</td>\n",
       "      <td>78</td>\n",
       "      <td>75</td>\n",
       "      <td>70</td>\n",
       "      <td>51</td>\n",
       "      <td>34</td>\n",
       "      <td>MIDDLE</td>\n",
       "    </tr>\n",
       "    <tr>\n",
       "      <th>4</th>\n",
       "      <td>84</td>\n",
       "      <td>75</td>\n",
       "      <td>78</td>\n",
       "      <td>80</td>\n",
       "      <td>80</td>\n",
       "      <td>91</td>\n",
       "      <td>104</td>\n",
       "      <td>123</td>\n",
       "      <td>130</td>\n",
       "      <td>144</td>\n",
       "      <td>...</td>\n",
       "      <td>92</td>\n",
       "      <td>82</td>\n",
       "      <td>92</td>\n",
       "      <td>101</td>\n",
       "      <td>98</td>\n",
       "      <td>101</td>\n",
       "      <td>98</td>\n",
       "      <td>133</td>\n",
       "      <td>145</td>\n",
       "      <td>YOUNG</td>\n",
       "    </tr>\n",
       "  </tbody>\n",
       "</table>\n",
       "<p>5 rows × 785 columns</p>\n",
       "</div>"
      ],
      "text/plain": [
       "    0    1    2    3    4    5    6    7    8    9   ...    775  776  777  \\\n",
       "0  82  220  197  168  162  162  198  191  133   95   ...     49   52   59   \n",
       "1  27   34   60   73   77   89  102  100  106  101   ...     57   50   43   \n",
       "2  37   22   18   15   24   35   32   42   44   42   ...     49   46   39   \n",
       "3  15   21   38   36   42   45   40   38   18   18   ...     89   96   92   \n",
       "4  84   75   78   80   80   91  104  123  130  144   ...     92   82   92   \n",
       "\n",
       "   778  779  780  781  782  783   Class  \n",
       "0   73   95  122  145  172  180  MIDDLE  \n",
       "1   43   43   43   50   51   58     OLD  \n",
       "2   40   36   13   40   54  122  MIDDLE  \n",
       "3   85   78   75   70   51   34  MIDDLE  \n",
       "4  101   98  101   98  133  145   YOUNG  \n",
       "\n",
       "[5 rows x 785 columns]"
      ]
     },
     "execution_count": 7,
     "metadata": {},
     "output_type": "execute_result"
    }
   ],
   "source": [
    "train.head()"
   ]
  },
  {
   "cell_type": "code",
   "execution_count": 8,
   "metadata": {
    "collapsed": true
   },
   "outputs": [],
   "source": [
    "nouts = 3\n",
    "ninps = 784"
   ]
  },
  {
   "cell_type": "code",
   "execution_count": 9,
   "metadata": {
    "collapsed": false
   },
   "outputs": [],
   "source": [
    "xtrain = np.array(train.iloc[:,0:784])\n",
    "#print(np.shape(xtrain))\n",
    "ytrain = train.iloc[:,784]\n",
    "#np.shape(ytrain)"
   ]
  },
  {
   "cell_type": "code",
   "execution_count": 10,
   "metadata": {
    "collapsed": false
   },
   "outputs": [],
   "source": [
    "ytrain = np.array(pd.get_dummies(ytrain))\n"
   ]
  },
  {
   "cell_type": "code",
   "execution_count": 20,
   "metadata": {
    "collapsed": false
   },
   "outputs": [
    {
     "data": {
      "text/plain": [
       "array([0, 0, 1], dtype=uint8)"
      ]
     },
     "execution_count": 20,
     "metadata": {},
     "output_type": "execute_result"
    }
   ],
   "source": [
    "ytrain[4]"
   ]
  },
  {
   "cell_type": "code",
   "execution_count": 12,
   "metadata": {
    "collapsed": false
   },
   "outputs": [],
   "source": [
    "input_layer = tflearn.input_data(shape=[None,784])\n",
    "hl1 = tflearn.fully_connected(input_layer,64,'relu')\n",
    "hl2 = tflearn.fully_connected(hl1,64,activation='relu')\n",
    "out = tflearn.fully_connected(hl2,3,activation=\"sigmoid\")"
   ]
  },
  {
   "cell_type": "code",
   "execution_count": 13,
   "metadata": {
    "collapsed": true
   },
   "outputs": [],
   "source": [
    "sgd = tflearn.SGD(learning_rate=0.01,lr_decay=0.001,decay_step=500)"
   ]
  },
  {
   "cell_type": "code",
   "execution_count": 14,
   "metadata": {
    "collapsed": true
   },
   "outputs": [],
   "source": [
    "net = tflearn.regression(out,optimizer=sgd,loss = \"categorical_crossentropy\")"
   ]
  },
  {
   "cell_type": "code",
   "execution_count": 15,
   "metadata": {
    "collapsed": true
   },
   "outputs": [],
   "source": [
    "model = tflearn.DNN(net)"
   ]
  },
  {
   "cell_type": "code",
   "execution_count": 16,
   "metadata": {
    "collapsed": false
   },
   "outputs": [
    {
     "name": "stdout",
     "output_type": "stream",
     "text": [
      "Training Step: 4999  | total loss: \u001b[1m\u001b[32m0.85745\u001b[0m\u001b[0m | time: 1.239s\n",
      "| SGD | epoch: 025 | loss: 0.85745 - acc: 0.5881 -- iter: 19900/19906\n",
      "Training Step: 5000  | total loss: \u001b[1m\u001b[32m0.84867\u001b[0m\u001b[0m | time: 1.245s\n",
      "| SGD | epoch: 025 | loss: 0.84867 - acc: 0.5943 -- iter: 19906/19906\n",
      "--\n"
     ]
    }
   ],
   "source": [
    "model.fit(xtrain,ytrain,n_epoch=25,batch_size= 100,show_metric=True)"
   ]
  },
  {
   "cell_type": "code",
   "execution_count": 28,
   "metadata": {
    "collapsed": false
   },
   "outputs": [],
   "source": [
    "preds = model.predict(test)"
   ]
  },
  {
   "cell_type": "code",
   "execution_count": 29,
   "metadata": {
    "collapsed": false
   },
   "outputs": [],
   "source": [
    "classes = []\n",
    "for i in range(len(test)):\n",
    "    if np.argmax(preds[i]) == 0:\n",
    "        classes.append(\"MIDDLE\")\n",
    "    elif np.argmax(preds[i]) == 1:\n",
    "        classes.append(\"OLD\")\n",
    "    else:\n",
    "        classes.append(\"YOUNG\")"
   ]
  },
  {
   "cell_type": "code",
   "execution_count": 30,
   "metadata": {
    "collapsed": false
   },
   "outputs": [],
   "source": [
    "df = pd.DataFrame({\"Class\": classes,\"ID\":yID})"
   ]
  },
  {
   "cell_type": "code",
   "execution_count": 31,
   "metadata": {
    "collapsed": false
   },
   "outputs": [
    {
     "data": {
      "text/html": [
       "<div>\n",
       "<table border=\"1\" class=\"dataframe\">\n",
       "  <thead>\n",
       "    <tr style=\"text-align: right;\">\n",
       "      <th></th>\n",
       "      <th>Class</th>\n",
       "      <th>ID</th>\n",
       "    </tr>\n",
       "  </thead>\n",
       "  <tbody>\n",
       "    <tr>\n",
       "      <th>0</th>\n",
       "      <td>MIDDLE</td>\n",
       "      <td>10.jpg</td>\n",
       "    </tr>\n",
       "    <tr>\n",
       "      <th>1</th>\n",
       "      <td>MIDDLE</td>\n",
       "      <td>1000.jpg</td>\n",
       "    </tr>\n",
       "    <tr>\n",
       "      <th>2</th>\n",
       "      <td>MIDDLE</td>\n",
       "      <td>10002.jpg</td>\n",
       "    </tr>\n",
       "    <tr>\n",
       "      <th>3</th>\n",
       "      <td>MIDDLE</td>\n",
       "      <td>10003.jpg</td>\n",
       "    </tr>\n",
       "    <tr>\n",
       "      <th>4</th>\n",
       "      <td>MIDDLE</td>\n",
       "      <td>10005.jpg</td>\n",
       "    </tr>\n",
       "  </tbody>\n",
       "</table>\n",
       "</div>"
      ],
      "text/plain": [
       "    Class         ID\n",
       "0  MIDDLE     10.jpg\n",
       "1  MIDDLE   1000.jpg\n",
       "2  MIDDLE  10002.jpg\n",
       "3  MIDDLE  10003.jpg\n",
       "4  MIDDLE  10005.jpg"
      ]
     },
     "execution_count": 31,
     "metadata": {},
     "output_type": "execute_result"
    }
   ],
   "source": [
    "df.head()"
   ]
  },
  {
   "cell_type": "code",
   "execution_count": 32,
   "metadata": {
    "collapsed": false
   },
   "outputs": [],
   "source": [
    "df.to_csv(\"submission1.csv\",index=False)"
   ]
  },
  {
   "cell_type": "code",
   "execution_count": null,
   "metadata": {
    "collapsed": true
   },
   "outputs": [],
   "source": []
  }
 ],
 "metadata": {
  "kernelspec": {
   "display_name": "Python 3",
   "language": "python",
   "name": "python3"
  },
  "language_info": {
   "codemirror_mode": {
    "name": "ipython",
    "version": 3
   },
   "file_extension": ".py",
   "mimetype": "text/x-python",
   "name": "python",
   "nbconvert_exporter": "python",
   "pygments_lexer": "ipython3",
   "version": "3.6.0"
  }
 },
 "nbformat": 4,
 "nbformat_minor": 2
}
